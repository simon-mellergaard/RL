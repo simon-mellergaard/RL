{
  "cells": [
    {
      "cell_type": "markdown",
      "metadata": {
        "id": "view-in-github",
        "colab_type": "text"
      },
      "source": [
        "<a href=\"https://colab.research.google.com/github/simon-mellergaard/RL/blob/main/Tutorials/04_python.ipynb\" target=\"_parent\"><img src=\"https://colab.research.google.com/assets/colab-badge.svg\" alt=\"Open In Colab\"/></a>"
      ]
    },
    {
      "cell_type": "code",
      "source": [
        "#@title Notebook pre steps\n",
        "\n",
        "# ALWAYS SAVE YOUR OWN COPY OF THIS NOTEBOOK: File > Save a copy in Drive\n",
        "# If danish menus do: Hjælp > Engelsk version\n",
        "# To clear output do: Edit > Clear all outputs\n",
        "\n",
        "## Useful shortscuts\n",
        "# Run current cell: Cmd+Enter\n",
        "# Run current cell and goto next: Shift+Enter\n",
        "# Run selection: Cmd+Shift+Enter\n",
        "# Comment/uncomment: Cmd+/\n",
        "\n",
        "## debugging (set off when finish coding)\n",
        "# Use ipdb.set_trace() to set breakpoint\n",
        "# Useful ipdb commands\n",
        "    # p <variable>: Print the value of a variable.\n",
        "    # n: Execute the next line of code.\n",
        "    # c: Continue execution until the next breakpoint or the end of the program.\n",
        "    # q: Quit the debugger.\n",
        "# %debug # Can be run in a code cell after the cell with error\n",
        "# !pip install ipdb\n",
        "# import ipdb\n",
        "# %pdb on\n",
        "# %pdb off\n",
        "\n",
        "\n",
        "## Missing packages\n",
        "!pip install dfply\n",
        "!pip install plotnine"
      ],
      "metadata": {
        "id": "RIXpYhe_Mnro"
      },
      "id": "RIXpYhe_Mnro",
      "execution_count": null,
      "outputs": []
    },
    {
      "cell_type": "markdown",
      "id": "88d5b017",
      "metadata": {
        "id": "88d5b017"
      },
      "source": [
        "# A short introduction to Python and packages\n",
        "\n",
        "This notebook gives an introduction to Python and some of the packages we will use during the course."
      ]
    },
    {
      "cell_type": "markdown",
      "id": "de036d5d",
      "metadata": {
        "id": "de036d5d"
      },
      "source": [
        "## Formatted Strings with `f'...'\n",
        "\n",
        "Formatted strings allow you to embed expressions inside string literals."
      ]
    },
    {
      "cell_type": "code",
      "execution_count": null,
      "id": "19e63b89",
      "metadata": {
        "id": "19e63b89"
      },
      "outputs": [],
      "source": [
        "name = 'Alice'\n",
        "age = 30\n",
        "print(f'{name} is {age} years old.')\n",
        "\n",
        "# Your turn: Create variables for your name, a hobby, and a favorite food.\n",
        "# Then use an `f-string` to print a sentence including all three."
      ]
    },
    {
      "cell_type": "markdown",
      "source": [
        "## Lists, Tuples, and Sets\n",
        "\n",
        "Lists, tuples, and sets are all built-in data structures in Python, each with different properties:\n",
        "\n",
        "\n",
        "| Feature         | List ([])                | Tuple (())                 | Set ({})                   |\n",
        "|-----------------|---------------------------|-----------------------------|-----------------------------|\n",
        "| Ordered         | Yes                       | Yes                         | No                          |\n",
        "| Duplicates      | Allowed                   | Allowed                     | Not allowed                 |\n",
        "| Mutability      | Mutable                   | Immutable                   | Mutable                     |\n",
        "| Syntax          | my_list = [1, 2, 3]       | my_tuple = (1, 2, 3)        | my_set = {1, 2, 3}          |\n",
        "| Use case        | General purpose           | Fixed group of values       | Unique, unordered values    |\n",
        "\n",
        "Lists are more flexible, while tuples are often used for fixed data, like RGB values or coordinate points. Tuples are useful for data you want to protect from modification, or when using sequences as dictionary keys or set elements. Sets are useful when you need to eliminate duplicates or check membership quickly."
      ],
      "metadata": {
        "id": "xzZMkew-NjqD"
      },
      "id": "xzZMkew-NjqD"
    },
    {
      "cell_type": "code",
      "source": [
        "# Creating empty structures\n",
        "empty_list = []\n",
        "empty_tuple = ()\n",
        "empty_set = set()  # Use set() instead of {} to avoid creating an empty dictionary\n",
        "print(\"Empty list:\", empty_list)\n",
        "print(\"Empty tuple:\", empty_tuple)\n",
        "print(\"Empty set:\", empty_set)\n",
        "\n",
        "# List example\n",
        "colors = ['red', 'green', 'red', 'blue']\n",
        "colors.append('yellow')\n",
        "print(\"List:\", colors)\n",
        "# Your turn: Get the index of green (try colors. to see possiblities)\n",
        "# Your turn: Get the first index of red\n",
        "# Your turn: Remove the first red element\n",
        "# Your turn: Remove the second element\n",
        "\n",
        "# Tuple example\n",
        "rgb = ('red', 'green', 'blue', 'red')\n",
        "# rgb.append('yellow')  # This will raise an AttributeError\n",
        "print(\"Tuple:\", rgb)\n",
        "# Your turn: Get the length of the tuple\n",
        "# Your turn: Count the number of red\n",
        "\n",
        "# Set example\n",
        "unique_colors = {'red', 'green', 'blue', 'red'}  # duplicates removed\n",
        "unique_colors.add('yellow')\n",
        "print(\"Set:\", unique_colors)\n",
        "# Your turn: Add black to the set\n",
        "unique_colors.add('red')\n",
        "# Your turn: Try adding a duplicate to the set. What happens?\n",
        "\n",
        "# Your turn: Convert the list to a tuple, the tuple to a set, and the set to a list."
      ],
      "metadata": {
        "id": "StYEj7PRN-hF"
      },
      "id": "StYEj7PRN-hF",
      "execution_count": null,
      "outputs": []
    },
    {
      "cell_type": "markdown",
      "source": [
        "## The NumPy package\n",
        "\n",
        "NumPy is a library for numerical computing in Python. It provides the ndarray type, which is more efficient than lists for numerical operations.\n"
      ],
      "metadata": {
        "id": "OF7JD_gQcsqB"
      },
      "id": "OF7JD_gQcsqB"
    },
    {
      "cell_type": "code",
      "source": [
        "import numpy as np\n",
        "import random  # for generating random numbers\n",
        "\n",
        "# Creating arrays\n",
        "arr = np.array([1, 3, 7, 7, 2, 1])\n",
        "print(\"1D array:\", arr)\n",
        "# Your turn: Create a NumPy array of the numbers 10 through 20.\n",
        "\n",
        "# 2D array\n",
        "matrix = np.array([[1, 2], [3, 4]])\n",
        "print(\"2D array:\\n\", matrix)\n",
        "# Your turn: Create a 3x3 matrix with values from 1 to 9.\n",
        "\n",
        "# Array operations\n",
        "print(\"Element-wise addition:\", arr + 10)\n",
        "print(\"Sum:\", np.sum(arr))\n",
        "print(\"Mean:\", np.mean(arr))\n",
        "print(\"Shape of matrix:\", matrix.shape)\n",
        "# Your turn: Compute the row-wise and column-wise sums of the matrix.\n",
        "\n",
        "# Array slicing\n",
        "print(\"First two elements:\", arr[:2])\n",
        "\n",
        "# Creating arrays with special values\n",
        "zeros_array = np.zeros((2, 3))  # 2x3 array of zeros\n",
        "print(\"Zeros array:\\n\", zeros_array)\n",
        "full_array = np.full((3, 3), 7)  # 3x3 array filled with the value 7\n",
        "print(\"Full array:\\n\", full_array)\n",
        "# Your turn: Create a 4x4 array filled with the number 5 using np.full.\n",
        "\n",
        "# Max values\n",
        "print(\"Max:\", np.max(arr))\n",
        "print(\"Index of first max value in arr (using argmax):\", np.argmax(arr))\n",
        "\n",
        "# Choosing randomly among multiple maximums\n",
        "max_value = np.max(arr)\n",
        "max_indices = np.where(arr == max_value)[0]\n",
        "print('Max index', random.choice(max_indices))\n",
        "# alternative (note enumerate([2,8]) would produce: (0, 2) (1, 8))\n",
        "max_indices = [i for i, val in enumerate(arr) if val == max_value]\n",
        "print('Max index', random.choice(max_indices))\n",
        "# Your turn: Find the index of the minimum value, and select one at random.\n",
        "\n",
        "# Converting lists and tuples to NumPy arrays and back\n",
        "lst = [1, 2, 3]\n",
        "tup = (4, 5, 6)\n",
        "print(\"Array from list:\", np.array(lst)) # list to array\n",
        "print(\"Array from tuple:\", np.array(tup)) # tuple to array\n",
        "print(\"List from array:\", np.array(arr).tolist()) # array to list\n",
        "print(\"Tuple from array:\", tuple(arr)) # array to tuple"
      ],
      "metadata": {
        "id": "wH3wh_hictIT"
      },
      "execution_count": null,
      "outputs": [],
      "id": "wH3wh_hictIT"
    },
    {
      "cell_type": "markdown",
      "id": "3467eac4",
      "metadata": {
        "id": "3467eac4"
      },
      "source": [
        "## Dictionaries\n",
        "\n",
        "Dictionaries store key-value pairs. They are mutable, unordered (prior to Python 3.7), and very fast for lookups.\n",
        "\n",
        "Keys must be unique and immutable (e.g., strings, numbers, tuples). Values can be of any type. Use .get(key) if you're not sure the key exists."
      ]
    },
    {
      "cell_type": "code",
      "execution_count": null,
      "id": "9e30ec2d",
      "metadata": {
        "id": "9e30ec2d"
      },
      "outputs": [],
      "source": [
        "# Creating dictionaries\n",
        "person1 = {\"name\": \"Alice\", \"age\": 30, \"city\": \"Paris\"}\n",
        "print(\"Dictionary:\", person1)\n",
        "\n",
        "# Accessing values\n",
        "print(\"Name:\", person1[\"name\"])\n",
        "\n",
        "# Adding or updating entries\n",
        "person1[\"height\"] = 165\n",
        "person1[\"age\"] = 31\n",
        "print(\"Updated dictionary:\", person1)\n",
        "# Your turn: Remove city from person1\n",
        "\n",
        "# Dictionary methods\n",
        "print(\"Keys:\", person1.keys())\n",
        "print(\"Values:\", person1.values())\n",
        "print(\"Items:\", person1.items())\n",
        "\n",
        "# Creating an empty dictionary\n",
        "person2 = {}\n",
        "print(\"Empty dictionary:\", person2)\n",
        "# Your turn: Add info about city and height to person2\n",
        "# Your turn: Add person1 and person2 to a new dictionary people using their name as keys.\n",
        "# Your turn: Print person2's height using people"
      ]
    },
    {
      "cell_type": "markdown",
      "id": "7d544393",
      "metadata": {
        "id": "7d544393"
      },
      "source": [
        "## Advanced Loops & Conditional Statements\n",
        "\n",
        "Python allows advanced use of loops and conditional statements to write expressive and efficient code.\n",
        "These features are useful when filtering data, checking multiple conditions, or evaluating nested structures"
      ]
    },
    {
      "cell_type": "code",
      "execution_count": null,
      "id": "b4284c73",
      "metadata": {
        "id": "b4284c73"
      },
      "outputs": [],
      "source": [
        "# Nested conditions\n",
        "age = 20\n",
        "gender = \"female\"\n",
        "if age >= 18:\n",
        "    if gender == \"female\":\n",
        "        print(\"Adult woman\")\n",
        "    else:\n",
        "        print(\"Adult man\")\n",
        "else:\n",
        "    print(\"Minor\")\n",
        "\n",
        "# Using `for` loops with `if` conditions\n",
        "numbers = [1, 2, 3, 4, 5, 6]\n",
        "even_numbers = []\n",
        "for num in numbers:\n",
        "    if num % 2 == 0: # modulus operator (the remainder of a division)\n",
        "      even_numbers.append(num)\n",
        "print(\"Even numbers:\", even_numbers)\n",
        "# Your turn: Use a loop to filter out odd numbers from a list and print the result.\n",
        "\n",
        "# List comprehension with conditionals\n",
        "squared_evens = [num**2 for num in numbers if num % 2 == 0]\n",
        "print(\"Squared even numbers:\", squared_evens)\n",
        "# Your turn: Create a list of squares for numbers 1 through 10, but only include those that are divisible by 3.\n",
        "# Your turn: Write a function that checks if all elements in a list are positive using all().\n",
        "\n",
        "# Complex expressions using all() and any() using tic-tac-toe example\n",
        "board = ['X', 'X', 'X', 'O', '', 'O', '', '', ''] # state of the board read from left to right and down\n",
        "wins = [(0,1,2), (3,4,5), (6,7,8), (0,3,6), (1,4,7), (2,5,8), (0,4,8), (2,4,6)]  # a list of tuples with indices giving a win if 3 equal symbols\n",
        "mark = \"X\"\n",
        "winner = any(all(board[i] == mark for i in win) for win in wins) # check if X wins\n",
        "print(\"Player X wins:\", winner)\n",
        "# Your turn: Add the check to a function check_win with input board and mark\n",
        "def check_win(board, mark):\n",
        "  return any(all(board[i] == mark for i in win) for win in wins)\n",
        "# Your turn: Check if O wins\n",
        "# Your turn: Modify the check_win function to print each win combination as it checks"
      ]
    },
    {
      "cell_type": "markdown",
      "id": "3a256e61",
      "metadata": {
        "id": "3a256e61"
      },
      "source": [
        "## Classes in Python\n",
        "\n",
        "A class is a blueprint for creating objects. In Python classes, `self` is a convention used as the first parameter in instance methods. It refers to the instance of the class itself."
      ]
    },
    {
      "cell_type": "code",
      "execution_count": null,
      "id": "53cbe57b",
      "metadata": {
        "id": "53cbe57b"
      },
      "outputs": [],
      "source": [
        "class Person:\n",
        "    def __init__(self, name, age = 34):\n",
        "        self.name = name\n",
        "        self.age = age\n",
        "        self.info = None\n",
        "\n",
        "    def say_hello(self):\n",
        "        print(f'Hello my name is {self.name} :-)')\n",
        "\n",
        "# Test class\n",
        "person1 = Person(\"Alice\", 25)\n",
        "person2 = Person(\"Bob\")\n",
        "person1.say_hello()\n",
        "person2.say_hello()\n",
        "\n",
        "# Your turn: Select the class text, right click and choose Explain code.\n",
        "# Your turn: Add a function teen that returns True if the person is between 13 and 19 otherwise False.\n",
        "# Your turn: Add a function set_info that takes input join (default False) and str.\n",
        "#  If join = False the set info to str else set info to a string with name, age and str.\n",
        "\n"
      ]
    },
    {
      "cell_type": "markdown",
      "id": "f3f05a7c",
      "metadata": {
        "id": "f3f05a7c"
      },
      "source": [
        "## The `pandas` and `pfply` Package\n",
        "\n",
        "Pandas is a powerful Python library for data analysis and manipulation. It provides data structures like DataFrame and Series.\n",
        "dfply is a library that mimics R's dplyr syntax to transform pandas DataFrames using a pipeline style."
      ]
    },
    {
      "cell_type": "code",
      "execution_count": null,
      "id": "a8f109c4",
      "metadata": {
        "id": "a8f109c4"
      },
      "outputs": [],
      "source": [
        "# Importing libraries\n",
        "import pandas as pd\n",
        "from dfply import *\n",
        "\n",
        "print(\"Original DataFrame:\")\n",
        "display(diamonds) # The 'diamonds' dataset is typically available in pandas\n",
        "print(\"First 3 rows:\")\n",
        "df = diamonds >> head(3) # note the pipe operator >> takes the dataframe before as input to the function after\n",
        "display(df)\n",
        "print(\"Selected columns:\")\n",
        "df = diamonds >> select(X.carat, X.price) >> head(5)\n",
        "display(df)\n",
        "print(\"Diamonds with price > 10000:\")\n",
        "df = diamonds >> mask(X.price > 18000)\n",
        "display(df)\n",
        "print(\"Diamonds with cut equal Ideal:\")\n",
        "# Your turn: Filter so only consider Ideal diamonds\n",
        "print(\"Add new column:\")\n",
        "df = diamonds >> mutate(price_str = X.price.astype(str) + ' dollars')\n",
        "display(df)\n",
        "print(\"Volumne:\")\n",
        "# Your turn: Add column volume = x * y * z\n",
        "print(\"Average price:\")\n",
        "df = diamonds >> group_by(X.cut) >> summarize(avg_price = X.price.mean())\n",
        "display(df)\n",
        "print(\"Given cut and clarity, the maximum, average and minimum depth is:\")\n",
        "# Your turn: Consider the first 50 rows. Given cut and clarity, calc the maximum, average and minimum depth"
      ]
    },
    {
      "cell_type": "markdown",
      "id": "57c34945",
      "metadata": {
        "id": "57c34945"
      },
      "source": [
        "## The `plotnine` Package\n",
        "\n",
        "\n",
        "`plotnine` is a grammar of graphics library similar to `ggplot2` in R."
      ]
    },
    {
      "cell_type": "code",
      "execution_count": null,
      "id": "0080eb8c",
      "metadata": {
        "id": "0080eb8c"
      },
      "outputs": [],
      "source": [
        "from plotnine import *\n",
        "from vega_datasets import local_data\n",
        "\n",
        "anscombes_quartet = local_data.anscombe()\n",
        "display(anscombes_quartet >> head(2))\n",
        "\n",
        "pt = (\n",
        "    ggplot(anscombes_quartet, aes(\"X\", \"Y\", fill=\"Series\"))\n",
        "    + geom_point() +\n",
        "    labs(title = \"Points\")\n",
        ")\n",
        "pt.show()\n",
        "# Your turn: Use geom_col instead of geom_point and let fill be based on Series\n",
        "\n",
        "pt = (\n",
        "    ggplot(anscombes_quartet, aes(\"X\", \"Y\", color=\"Series\"))\n",
        "    + geom_point()\n",
        "    + geom_smooth(method=\"lm\", se=False, fullrange=True)\n",
        "    + theme(legend_position='bottom')\n",
        "    + labs(title = \"Points and linear fit\")\n",
        ")\n",
        "pt.show()\n",
        "\n",
        "pt = (\n",
        "    ggplot(anscombes_quartet, aes(\"X\", \"Y\", color=\"Series\"))\n",
        "    + geom_point()\n",
        "    + geom_smooth(method=\"lm\", se=False, fullrange=True)\n",
        "    + facet_wrap(\"~Series\")\n",
        "    + theme(legend_position='bottom')\n",
        "    + labs(title = \"Subplots\")\n",
        ")\n",
        "pt.show()\n",
        "\n",
        "pt = (\n",
        "    ggplot(anscombes_quartet, aes(\"X\", \"Y\", color=\"Series\"))\n",
        "    + geom_point()\n",
        "    + geom_line()\n",
        "    + geom_smooth(method=\"lm\", se=False, fullrange=True)\n",
        "    + facet_wrap(\"~Series\")\n",
        "    + theme(legend_position='bottom')\n",
        "    + labs(title = \"Subplots with points connected\")\n",
        ")\n",
        "pt.show()"
      ]
    }
  ],
  "metadata": {
    "colab": {
      "provenance": [],
      "toc_visible": true,
      "include_colab_link": true
    },
    "language_info": {
      "name": "python"
    },
    "kernelspec": {
      "name": "python3",
      "display_name": "Python 3"
    }
  },
  "nbformat": 4,
  "nbformat_minor": 5
}