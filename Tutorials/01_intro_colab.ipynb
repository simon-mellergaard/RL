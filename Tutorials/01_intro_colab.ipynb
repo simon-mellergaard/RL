{
  "cells": [
    {
      "cell_type": "markdown",
      "metadata": {
        "id": "view-in-github",
        "colab_type": "text"
      },
      "source": [
        "<a href=\"https://colab.research.google.com/github/simon-mellergaard/RL/blob/main/Tutorials/01_intro_colab.ipynb\" target=\"_parent\"><img src=\"https://colab.research.google.com/assets/colab-badge.svg\" alt=\"Open In Colab\"/></a>"
      ]
    },
    {
      "cell_type": "markdown",
      "metadata": {
        "id": "5v_IIXD9v8DH"
      },
      "source": [
        "# Introduction to Google Colab\n",
        "\n",
        "During the course examples and exercises will be solved using Python. You may install Python on your computer; however, in class we will use Google Colab which is a cloud-based platform to run code. This tutorial gives a short introduciton to Colab and Jupyter Notebooks which are the files used to weave code and text together.\n",
        "\n",
        "This tutorial assume that you have this file open in Colab.\n",
        "\n",
        "- **ToDo** If you are not signed in (see upper right corner) then do it first.\n",
        "\n",
        "- **ToDo** This course is taught in English. If Colab is using Danish menus then do *Help > Engelsk version* to get the English version.\n"
      ]
    },
    {
      "cell_type": "markdown",
      "metadata": {
        "id": "LaeAXNT3v8DI"
      },
      "source": [
        "\n",
        "## 1 Learning outcomes\n",
        "\n",
        "By the end of this turorial, you are expected to\n",
        "\n",
        "- Describe what a Jupyter Notebook is.\n",
        "- Describe what Google Colab is.\n",
        "- Copy a notebook and add text and code.\n",
        "- Run a notebook on Google Colab.\n",
        "\n",
        "<!-- SOLO increasing: identify · memorise · name · do simple procedure · collect data · -->\n",
        "<!-- enumerate · describe · interpret · formulate · list · paraphrase · combine · do -->\n",
        "<!-- algorithms · compare · contrast · explain causes · analyse · relate · derive · -->\n",
        "<!-- evaluate · apply · argue · theorise · generalise · hypothesise · solve · reflect -->\n",
        "\n"
      ]
    },
    {
      "cell_type": "markdown",
      "metadata": {
        "id": "0o9N4rK2v8DJ"
      },
      "source": [
        "\n",
        "## 2 A short overview\n",
        "\n",
        "A *Jupyter Notebook* is an open source interactive document that lets you combine code, text, images, and visualizations all in one place. The name derives from the three most popular supported languages: Julia, Python, and R. You can view the document in your web browser and using Colab it is easy to write, run, document, and share your code.\n",
        "\n",
        "In fact this file is a notebook and you will later copy and modify it.\n",
        "\n",
        "*Google Colab* (or \"Colaboratory\") is a cloud-based platform provided by Google that allows you to create and run Jupyter Notebooks without installing anything on your local computer. That is, Colab runs entirely in your browser (no setup required). You have free access to Google's computing resources (though limited for high usage).\n",
        "\n",
        "*Google Colab* is essentially Google's version of a Jupyter Notebook hosted on their servers. You get the same interface and functionalities as traditional Jupyter notebooks, but with cloud hosting and additional features provided by Google. When you use Google Colab, you're working with Jupyter notebooks—just running remotely rather than locally on your computer.\n",
        "\n",
        "*Reproducibility* means that someone else (or even your future self) can exactly replicate your results using the same code, data, and methodology you used. Jupyter Notebooks support reproducibility by clearly documenting your entire analysis workflow in a step-by-step, readable format. Google Colab enhances reproducibility even further by allowing anyone to access and run your notebook exactly as you left it, without worrying about installing libraries or managing different versions of software packages."
      ]
    },
    {
      "cell_type": "markdown",
      "metadata": {
        "id": "Msw5Qs1exd1b"
      },
      "source": [
        "## 3 Saving and sharing a notebook\n",
        "\n",
        "A notebook is a list of *cells*. Cells contain either explanatory *text* or executable *code* and its output. For example this cell is a text cell.\n",
        "\n",
        "When you open a shared notebook you may edit it directly. However, your changes are not saved. You have to do this!\n",
        "\n",
        "  - **Your turn** Make your own copy of this notebook by selecting *File > Save a copy in Drive* from the menu bar (you may need to connect you Google Drive).\n",
        "\n",
        "Now you have you own version of this notebook saved on [your personal drive](https://drive.google.com/drive/) (see your folder *Colab Notebooks*) and you can always open it again. Moreover, autosave is turned on so you work is always saved.\n",
        "\n",
        "If you work in groups you may share the notebook with others.\n",
        "\n",
        "  - **Your turn** Have a look at the *Share* button in the upper-right corner at checkout the different sharing options (e.g. viewer, editor modes)."
      ]
    },
    {
      "cell_type": "markdown",
      "metadata": {
        "id": "Zc1dlawgv8DJ"
      },
      "source": [
        "## 4 Editing a notebook\n",
        "\n",
        "A notebook is a list of *cells*. Cells contain either explanatory *text* or executable *code* and its output.\n"
      ]
    },
    {
      "cell_type": "markdown",
      "metadata": {
        "id": "Id6tDF1HQSHD"
      },
      "source": [
        "### Text cells\n",
        "This is a *text cell*. You can *double-click* to edit this cell. Text cells\n",
        "use markdown syntax. To learn more, see this [markdown\n",
        "guide](/notebooks/markdown_guide.ipynb).\n",
        "\n",
        "You can also add math to text cells using [LaTeX](http://www.latex-project.org/)\n",
        "to be rendered by [MathJax](https://www.mathjax.org). Just place the statement\n",
        "within a pair of *\\$* signs. For example `$\\sqrt{3x-1}+(1+x)^2$` becomes\n",
        "$\\sqrt{3x-1}+(1+x)^2.$\n",
        "\n",
        "- **Your turn** Edit this cell and add text \"I am learning\" in bold below this line.\n",
        "\n",
        "**I am learning**\n"
      ]
    },
    {
      "cell_type": "markdown",
      "metadata": {
        "id": "KR921S_OQSHG"
      },
      "source": [
        "### Code cells\n",
        "\n",
        "Below is a *code cell* (this cell is text). Click the cell to select it and execute the contents in the following ways:\n",
        "\n",
        "* Click the *Play icon* in the left gutter of the cell;\n",
        "* Type *Cmd/Ctrl+Enter* to run the cell in place;\n",
        "* Type *Shift+Enter* to run the cell and move focus to the next cell (adding one if none exists); or\n",
        "\n",
        "There are additional options for running some or all cells in the *Runtime* menu.\n",
        "\n",
        "- **Your turn** Run the code cell below. Note the cell now has output.\n",
        "\n"
      ]
    },
    {
      "cell_type": "code",
      "execution_count": 4,
      "metadata": {
        "cellView": "both",
        "id": "WUtu4316QSHL",
        "outputId": "2b37ecb5-8cd9-4d41-e7f5-6748b57f8d14",
        "colab": {
          "base_uri": "https://localhost:8080/"
        }
      },
      "outputs": [
        {
          "output_type": "execute_result",
          "data": {
            "text/plain": [
              "10"
            ]
          },
          "metadata": {},
          "execution_count": 4
        }
      ],
      "source": [
        "a = 10\n",
        "a"
      ]
    },
    {
      "cell_type": "markdown",
      "source": [
        "Well, the code does... Hmm, let me think... well I don't really know what it does!"
      ],
      "metadata": {
        "id": "6zfRxBREqaK2"
      }
    },
    {
      "cell_type": "markdown",
      "metadata": {
        "id": "7bqjkGKwQSHW"
      },
      "source": [
        "### Adding and moving cells\n",
        "You can add new cells by using the *+ Code* and *+ Text* buttons that show when you hover between cells. These buttons are also in the toolbar above the notebook where they can be used to add a cell below the currently selected cell.\n",
        "\n",
        "Consecutive cells can be selected by \"lasso selection\" by dragging from outside one cell and through the group.  Non-adjacent cells can be selected concurrently by clicking one and then holding down Ctrl while clicking another.  Similarly, using Shift instead of Ctrl will select all intermediate cells.\n",
        "\n",
        "**Your turn**\n",
        "\n",
        "- Add a text cell below the code cell which explain what the code does.\n",
        "- Try moveing the text cell by pressing the arrows appering right i a cell when you click it."
      ]
    },
    {
      "cell_type": "markdown",
      "metadata": {
        "id": "RVuqWUXPQSHa"
      },
      "source": [
        "Long running python processes can be interrupted. Run the following cell and select *Runtime -> Interrupt execution* (*hotkey: Cmd/Ctrl-M I*) to stop execution."
      ]
    },
    {
      "cell_type": "markdown",
      "source": [
        "## 5 Running code\n",
        "\n",
        "The code you have excecuted is saved and loaded again when you reopen the file. However, you may rerun all your code, current cell or all below. See the **Runtime** menu. If you want to stop your running code, then press the *Stop* icon in a code cell or interrupt the runtime from the **Runtime** menu.\n",
        "\n",
        "**Your turn**\n",
        "\n",
        "- Run the code below and stop it again.\n",
        "- Run all code cells in the notebook from the **Runtime** menu."
      ],
      "metadata": {
        "id": "6ldNlp6h6Oi8"
      }
    },
    {
      "cell_type": "code",
      "execution_count": 5,
      "metadata": {
        "cellView": "both",
        "id": "d-S-3nYLQSHb",
        "outputId": "8449212e-57f1-47a8-e335-925d3c0b0de9",
        "colab": {
          "base_uri": "https://localhost:8080/"
        }
      },
      "outputs": [
        {
          "output_type": "stream",
          "name": "stdout",
          "text": [
            "Sleeping\n",
            "Done Sleeping\n"
          ]
        }
      ],
      "source": [
        "import time\n",
        "print(\"Sleeping\")\n",
        "time.sleep(30) # sleep for a while; interrupt me!\n",
        "print(\"Done Sleeping\")"
      ]
    },
    {
      "cell_type": "markdown",
      "source": [
        "## 6 Using generative AI\n",
        "\n",
        "Colab works with Gemini. For instance select the code cell above, right click and choose *Explain code*. A new window will open and explain the code. You may also look for the Gemini icon or a related feature in the Colab interface.\n",
        "\n",
        "Interact with Gemini through the provided chat or input area.\n",
        "Ask Gemini questions related to coding, data science, or using Colab.\n",
        "Gemini will provide assistance, explanations, or code suggestions directly within Colab."
      ],
      "metadata": {
        "id": "7qlawZyu1iks"
      }
    },
    {
      "cell_type": "markdown",
      "source": [
        "## 7 Further reading\n",
        "\n",
        "You may also have a look at [this tutorial](https://www.tutorialspoint.com/google_colab/)."
      ],
      "metadata": {
        "id": "b0GTiP7uRI2S"
      }
    }
  ],
  "metadata": {
    "colab": {
      "provenance": [],
      "toc_visible": true,
      "include_colab_link": true
    },
    "kernelspec": {
      "display_name": "Python 3",
      "name": "python3"
    },
    "language_info": {
      "name": "python"
    }
  },
  "nbformat": 4,
  "nbformat_minor": 0
}